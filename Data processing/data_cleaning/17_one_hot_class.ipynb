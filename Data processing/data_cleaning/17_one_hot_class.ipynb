{
 "cells": [
  {
   "cell_type": "code",
   "execution_count": 1,
   "id": "629b79b2",
   "metadata": {},
   "outputs": [],
   "source": [
    "import numpy as np\n",
    "import pandas as pd\n",
    "import random"
   ]
  },
  {
   "cell_type": "code",
   "execution_count": 2,
   "id": "44f0b213",
   "metadata": {},
   "outputs": [],
   "source": [
    "df = pd.read_csv(\"./16_description_cleaned.csv\")"
   ]
  },
  {
   "cell_type": "code",
   "execution_count": 3,
   "id": "de658966",
   "metadata": {},
   "outputs": [
    {
     "data": {
      "text/plain": [
       "'[2 3]'"
      ]
     },
     "execution_count": 3,
     "metadata": {},
     "output_type": "execute_result"
    }
   ],
   "source": [
    "df.at[0, \"tag\"]"
   ]
  },
  {
   "cell_type": "code",
   "execution_count": 4,
   "id": "65d4b372",
   "metadata": {},
   "outputs": [],
   "source": [
    "def str_to_list(string):\n",
    "    try:\n",
    "        return_arr = [int(i) for i in string[1:-1].split(\" \")]\n",
    "    except Exception as e:\n",
    "        return list()\n",
    "    return return_arr\n",
    "\n",
    "df[\"tag\"] = df[\"tag\"].apply(str_to_list)"
   ]
  },
  {
   "cell_type": "code",
   "execution_count": 5,
   "id": "390f7011",
   "metadata": {},
   "outputs": [],
   "source": [
    "def list_to_class(lst_class):\n",
    "    final_arr = []\n",
    "    for i in range(1, 9):\n",
    "        final_arr.append(i in lst_class)\n",
    "    \n",
    "    return final_arr\n",
    "\n",
    "df[\"tag\"] = df[\"tag\"].apply(list_to_class)"
   ]
  },
  {
   "cell_type": "code",
   "execution_count": 6,
   "id": "da06f5da",
   "metadata": {},
   "outputs": [],
   "source": [
    "df[\"predicted_tag\"] = \"None\""
   ]
  },
  {
   "cell_type": "code",
   "execution_count": 7,
   "id": "c6f1dfd8",
   "metadata": {},
   "outputs": [],
   "source": [
    "for i in range(1, 9):\n",
    "    df[str(i)] = np.nan"
   ]
  },
  {
   "cell_type": "code",
   "execution_count": 8,
   "id": "c5ed4064",
   "metadata": {},
   "outputs": [],
   "source": [
    "for i in range(len(df)):\n",
    "    for j in range(1, 9):\n",
    "        df.at[i, str(j)] = df.at[i, \"tag\"][j - 1]"
   ]
  },
  {
   "cell_type": "code",
   "execution_count": 9,
   "id": "31584481",
   "metadata": {},
   "outputs": [],
   "source": [
    "df = df.drop([\"tag\", \"predicted_tag\"], axis=1)"
   ]
  },
  {
   "cell_type": "code",
   "execution_count": 11,
   "id": "e5d02f45",
   "metadata": {},
   "outputs": [],
   "source": [
    "df.to_csv(\"./17_one_hot_class.csv\", index=False)"
   ]
  },
  {
   "cell_type": "code",
   "execution_count": null,
   "id": "503e1f0e",
   "metadata": {},
   "outputs": [],
   "source": []
  }
 ],
 "metadata": {
  "kernelspec": {
   "display_name": "Python 3 (ipykernel)",
   "language": "python",
   "name": "python3"
  },
  "language_info": {
   "codemirror_mode": {
    "name": "ipython",
    "version": 3
   },
   "file_extension": ".py",
   "mimetype": "text/x-python",
   "name": "python",
   "nbconvert_exporter": "python",
   "pygments_lexer": "ipython3",
   "version": "3.9.18"
  }
 },
 "nbformat": 4,
 "nbformat_minor": 5
}
