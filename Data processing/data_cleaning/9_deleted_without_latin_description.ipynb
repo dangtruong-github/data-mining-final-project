{
 "cells": [
  {
   "cell_type": "code",
   "execution_count": 1,
   "id": "bac3ade2",
   "metadata": {},
   "outputs": [],
   "source": [
    "import pandas as pd\n",
    "import re\n",
    "import numpy as np\n",
    "from collections import Counter\n",
    "import unicodedata"
   ]
  },
  {
   "cell_type": "code",
   "execution_count": 2,
   "id": "e9987fa2",
   "metadata": {},
   "outputs": [],
   "source": [
    "df = pd.read_csv(\"./8_filter_latin_description.csv\")"
   ]
  },
  {
   "cell_type": "code",
   "execution_count": 3,
   "id": "97406996",
   "metadata": {},
   "outputs": [],
   "source": [
    "id_to_remove = [121,  398,  400,  487,  700,  757,  758,  769,  785,  851,  866,\n",
    "       1007, 1009, 1029, 1095, 1149, 1205, 1216, 1222, 1238, 1295, 1300,\n",
    "       1445, 1446, 1515, 1540, 1577, 1578, 1687, 2109, 2354, 2432]"
   ]
  },
  {
   "cell_type": "code",
   "execution_count": 4,
   "id": "198a0d0d",
   "metadata": {},
   "outputs": [],
   "source": [
    "df = df.loc[~df[\"ID\"].isin(id_to_remove)]"
   ]
  },
  {
   "cell_type": "code",
   "execution_count": 5,
   "id": "364bddd7",
   "metadata": {},
   "outputs": [],
   "source": [
    "df.to_csv(\"./9_deleted_without_latin_description.csv\", index=False)"
   ]
  },
  {
   "cell_type": "code",
   "execution_count": null,
   "id": "9314e9f2",
   "metadata": {},
   "outputs": [],
   "source": []
  }
 ],
 "metadata": {
  "kernelspec": {
   "display_name": "Python 3 (ipykernel)",
   "language": "python",
   "name": "python3"
  },
  "language_info": {
   "codemirror_mode": {
    "name": "ipython",
    "version": 3
   },
   "file_extension": ".py",
   "mimetype": "text/x-python",
   "name": "python",
   "nbconvert_exporter": "python",
   "pygments_lexer": "ipython3",
   "version": "3.9.18"
  }
 },
 "nbformat": 4,
 "nbformat_minor": 5
}
