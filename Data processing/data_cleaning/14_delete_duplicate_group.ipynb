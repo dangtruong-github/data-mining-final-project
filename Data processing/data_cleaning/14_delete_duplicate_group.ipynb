{
 "cells": [
  {
   "cell_type": "code",
   "execution_count": 3,
   "id": "72efe63a",
   "metadata": {},
   "outputs": [],
   "source": [
    "import pandas as pd"
   ]
  },
  {
   "cell_type": "code",
   "execution_count": 4,
   "id": "fb1d1210",
   "metadata": {},
   "outputs": [],
   "source": [
    "df = pd.read_csv(\"./13_tags_grouping_part_2.csv\")"
   ]
  },
  {
   "cell_type": "code",
   "execution_count": 5,
   "id": "9522a233",
   "metadata": {},
   "outputs": [],
   "source": [
    "def str_to_list(string):\n",
    "    new_list = string[1:-1].split(', ')\n",
    "    \n",
    "    new_list_final = []\n",
    "    \n",
    "    for item in new_list:\n",
    "        conv = 0\n",
    "        \n",
    "        try:\n",
    "            conv = int(item)\n",
    "            new_list_final.append(conv)\n",
    "        except:\n",
    "            pass\n",
    "        \n",
    "    new_list_final = list(set(new_list_final))    \n",
    "        \n",
    "    return str(new_list_final)"
   ]
  },
  {
   "cell_type": "code",
   "execution_count": 6,
   "id": "51b8d117",
   "metadata": {},
   "outputs": [],
   "source": [
    "df[\"story_tags_list\"] = df[\"story_tags_list\"].apply(str_to_list)"
   ]
  },
  {
   "cell_type": "code",
   "execution_count": 7,
   "id": "dade280f",
   "metadata": {},
   "outputs": [],
   "source": [
    "df.to_csv(\"./14_delete_duplicate_group.csv\", index=False)"
   ]
  },
  {
   "cell_type": "code",
   "execution_count": null,
   "id": "7723a477",
   "metadata": {},
   "outputs": [],
   "source": []
  }
 ],
 "metadata": {
  "kernelspec": {
   "display_name": "Python 3 (ipykernel)",
   "language": "python",
   "name": "python3"
  },
  "language_info": {
   "codemirror_mode": {
    "name": "ipython",
    "version": 3
   },
   "file_extension": ".py",
   "mimetype": "text/x-python",
   "name": "python",
   "nbconvert_exporter": "python",
   "pygments_lexer": "ipython3",
   "version": "3.9.18"
  }
 },
 "nbformat": 4,
 "nbformat_minor": 5
}
