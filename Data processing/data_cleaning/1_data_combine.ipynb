{
 "cells": [
  {
   "cell_type": "code",
   "execution_count": 1,
   "id": "1ce5ea8e",
   "metadata": {},
   "outputs": [],
   "source": [
    "import json\n",
    "import pandas as pd"
   ]
  },
  {
   "cell_type": "code",
   "execution_count": 5,
   "id": "5835060d",
   "metadata": {},
   "outputs": [
    {
     "data": {
      "text/plain": [
       "1209"
      ]
     },
     "execution_count": 5,
     "metadata": {},
     "output_type": "execute_result"
    }
   ],
   "source": [
    "pd_all = None\n",
    "\n",
    "with open(\"../json_files/story_data.json\", \"r\") as file:\n",
    "    data = json.loads(file.read())\n",
    "    pd_all = pd.json_normalize(data)\n",
    "    \n",
    "len(pd_all)"
   ]
  },
  {
   "cell_type": "code",
   "execution_count": 6,
   "id": "23604b69",
   "metadata": {},
   "outputs": [
    {
     "data": {
      "text/plain": [
       "4611"
      ]
     },
     "execution_count": 6,
     "metadata": {},
     "output_type": "execute_result"
    }
   ],
   "source": [
    "for i in range(1, 4):\n",
    "    with open(\"../json_files/depth_{}.json\".format(i), \"r\") as file:\n",
    "        data = json.loads(file.read())\n",
    "        pd_new = pd.json_normalize(data)\n",
    "        pd_all = pd.concat([pd_new, pd_all])\n",
    "\n",
    "len(pd_all)"
   ]
  },
  {
   "cell_type": "code",
   "execution_count": 7,
   "id": "0a920dba",
   "metadata": {},
   "outputs": [],
   "source": [
    "pd_all.to_csv(\"./1_data_combine.csv\", index=False)"
   ]
  }
 ],
 "metadata": {
  "kernelspec": {
   "display_name": "Python 3 (ipykernel)",
   "language": "python",
   "name": "python3"
  },
  "language_info": {
   "codemirror_mode": {
    "name": "ipython",
    "version": 3
   },
   "file_extension": ".py",
   "mimetype": "text/x-python",
   "name": "python",
   "nbconvert_exporter": "python",
   "pygments_lexer": "ipython3",
   "version": "3.9.18"
  }
 },
 "nbformat": 4,
 "nbformat_minor": 5
}
