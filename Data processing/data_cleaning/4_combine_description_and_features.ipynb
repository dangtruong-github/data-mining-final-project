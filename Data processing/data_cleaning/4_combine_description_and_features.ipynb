{
 "cells": [
  {
   "cell_type": "code",
   "execution_count": 1,
   "id": "f264460a",
   "metadata": {},
   "outputs": [],
   "source": [
    "import pandas as pd"
   ]
  },
  {
   "cell_type": "code",
   "execution_count": 2,
   "id": "98a07661",
   "metadata": {},
   "outputs": [],
   "source": [
    "df_description = pd.read_csv(\"./3_crawl_description.csv\")\n",
    "\n",
    "df_features = pd.read_csv(\"./2_data_cleaning.csv\")"
   ]
  },
  {
   "cell_type": "code",
   "execution_count": 3,
   "id": "8318e485",
   "metadata": {},
   "outputs": [
    {
     "data": {
      "text/html": [
       "<div>\n",
       "<style scoped>\n",
       "    .dataframe tbody tr th:only-of-type {\n",
       "        vertical-align: middle;\n",
       "    }\n",
       "\n",
       "    .dataframe tbody tr th {\n",
       "        vertical-align: top;\n",
       "    }\n",
       "\n",
       "    .dataframe thead th {\n",
       "        text-align: right;\n",
       "    }\n",
       "</style>\n",
       "<table border=\"1\" class=\"dataframe\">\n",
       "  <thead>\n",
       "    <tr style=\"text-align: right;\">\n",
       "      <th></th>\n",
       "      <th>ID</th>\n",
       "      <th>link</th>\n",
       "      <th>Description</th>\n",
       "    </tr>\n",
       "  </thead>\n",
       "  <tbody>\n",
       "    <tr>\n",
       "      <th>0</th>\n",
       "      <td>0</td>\n",
       "      <td>https://www.wattpad.com/story/51678600-vampire...</td>\n",
       "      <td>Cuộc sống và chuyện tình cảm của 12 chòm sao t...</td>\n",
       "    </tr>\n",
       "    <tr>\n",
       "      <th>1</th>\n",
       "      <td>1</td>\n",
       "      <td>https://www.wattpad.com/story/128268448-n%E1%B...</td>\n",
       "      <td>Thế kỷ 21, nàng là một trong những người nổi t...</td>\n",
       "    </tr>\n",
       "    <tr>\n",
       "      <th>2</th>\n",
       "      <td>2</td>\n",
       "      <td>https://www.wattpad.com/story/68364418-cryptic...</td>\n",
       "      <td>Đây là những gì mình sưu tầm được. Vì khá thíc...</td>\n",
       "    </tr>\n",
       "    <tr>\n",
       "      <th>3</th>\n",
       "      <td>3</td>\n",
       "      <td>https://www.wattpad.com/story/89250906-em-s%E1...</td>\n",
       "      <td>Tình yêu của một tên giết người dưới góc nhìn ...</td>\n",
       "    </tr>\n",
       "    <tr>\n",
       "      <th>4</th>\n",
       "      <td>4</td>\n",
       "      <td>https://www.wattpad.com/story/182991023-l%E1%B...</td>\n",
       "      <td>Hán Việt: Tuyệt vọng giáo thất\\n    \\n    Tác ...</td>\n",
       "    </tr>\n",
       "  </tbody>\n",
       "</table>\n",
       "</div>"
      ],
      "text/plain": [
       "   ID                                               link  \\\n",
       "0   0  https://www.wattpad.com/story/51678600-vampire...   \n",
       "1   1  https://www.wattpad.com/story/128268448-n%E1%B...   \n",
       "2   2  https://www.wattpad.com/story/68364418-cryptic...   \n",
       "3   3  https://www.wattpad.com/story/89250906-em-s%E1...   \n",
       "4   4  https://www.wattpad.com/story/182991023-l%E1%B...   \n",
       "\n",
       "                                         Description  \n",
       "0  Cuộc sống và chuyện tình cảm của 12 chòm sao t...  \n",
       "1  Thế kỷ 21, nàng là một trong những người nổi t...  \n",
       "2  Đây là những gì mình sưu tầm được. Vì khá thíc...  \n",
       "3  Tình yêu của một tên giết người dưới góc nhìn ...  \n",
       "4  Hán Việt: Tuyệt vọng giáo thất\\n    \\n    Tác ...  "
      ]
     },
     "execution_count": 3,
     "metadata": {},
     "output_type": "execute_result"
    }
   ],
   "source": [
    "df_description.head()"
   ]
  },
  {
   "cell_type": "code",
   "execution_count": 4,
   "id": "30a0f1ec",
   "metadata": {},
   "outputs": [
    {
     "data": {
      "text/html": [
       "<div>\n",
       "<style scoped>\n",
       "    .dataframe tbody tr th:only-of-type {\n",
       "        vertical-align: middle;\n",
       "    }\n",
       "\n",
       "    .dataframe tbody tr th {\n",
       "        vertical-align: top;\n",
       "    }\n",
       "\n",
       "    .dataframe thead th {\n",
       "        text-align: right;\n",
       "    }\n",
       "</style>\n",
       "<table border=\"1\" class=\"dataframe\">\n",
       "  <thead>\n",
       "    <tr style=\"text-align: right;\">\n",
       "      <th></th>\n",
       "      <th>ID</th>\n",
       "      <th>depth</th>\n",
       "      <th>story_tags_list</th>\n",
       "      <th>cover_img</th>\n",
       "      <th>title</th>\n",
       "      <th>Lượt đọc</th>\n",
       "      <th>Lượt bình chọn</th>\n",
       "      <th>Chương</th>\n",
       "      <th>recommended_stories</th>\n",
       "      <th>badges</th>\n",
       "      <th>Thời gian</th>\n",
       "    </tr>\n",
       "  </thead>\n",
       "  <tbody>\n",
       "    <tr>\n",
       "      <th>0</th>\n",
       "      <td>0</td>\n",
       "      <td>0</td>\n",
       "      <td>['12chomsao', '12cs', '12cunghoàngđạo', 'bíẩn'...</td>\n",
       "      <td>https://img.wattpad.com/cover/51678600-512-k93...</td>\n",
       "      <td>Vampire và người sói (12 chòm sao)[full]</td>\n",
       "      <td>69463.0</td>\n",
       "      <td>3355.0</td>\n",
       "      <td>32.0</td>\n",
       "      <td>['0020', '0021', '0022', '0023', '0024', '0025...</td>\n",
       "      <td>NaN</td>\n",
       "      <td>NaN</td>\n",
       "    </tr>\n",
       "    <tr>\n",
       "      <th>1</th>\n",
       "      <td>1</td>\n",
       "      <td>0</td>\n",
       "      <td>['bíẩn', 'cungđấu', 'dieutra', 'thriller', 'tr...</td>\n",
       "      <td>https://img.wattpad.com/cover/128268448-512-k3...</td>\n",
       "      <td>Nữ Ngỗ Tác Họa Cốt</td>\n",
       "      <td>3529078.0</td>\n",
       "      <td>128419.0</td>\n",
       "      <td>160.0</td>\n",
       "      <td>['0030', '0031', '0032', '0033', '0034', '0035...</td>\n",
       "      <td>['Đang sáng tác']</td>\n",
       "      <td>NaN</td>\n",
       "    </tr>\n",
       "    <tr>\n",
       "      <th>2</th>\n",
       "      <td>2</td>\n",
       "      <td>0</td>\n",
       "      <td>['bíẩn', 'cryptic', 'fbi']</td>\n",
       "      <td>https://img.wattpad.com/cover/68364418-512-k14...</td>\n",
       "      <td>CRYPTIC ( Câu đố Cryptic Ft. Đáp án)</td>\n",
       "      <td>87261.0</td>\n",
       "      <td>2780.0</td>\n",
       "      <td>13.0</td>\n",
       "      <td>['0037', '0036', '0035', '0030', '0034', '0032...</td>\n",
       "      <td>['Đang sáng tác']</td>\n",
       "      <td>NaN</td>\n",
       "    </tr>\n",
       "    <tr>\n",
       "      <th>3</th>\n",
       "      <td>3</td>\n",
       "      <td>0</td>\n",
       "      <td>['blood', 'bíẩn', 'horror', 'killer', 'kinhdi'...</td>\n",
       "      <td>https://img.wattpad.com/cover/89250906-512-k22...</td>\n",
       "      <td>Em sẽ là nạn nhân của anh</td>\n",
       "      <td>34795.0</td>\n",
       "      <td>2049.0</td>\n",
       "      <td>17.0</td>\n",
       "      <td>['0032', '0036', '0031', '0034', '0035', '0038...</td>\n",
       "      <td>['Hoàn thành']</td>\n",
       "      <td>NaN</td>\n",
       "    </tr>\n",
       "    <tr>\n",
       "      <th>4</th>\n",
       "      <td>4</td>\n",
       "      <td>0</td>\n",
       "      <td>['bíẩn', 'edit', 'hiệnđại', 'hồihộp', 'khoahọc...</td>\n",
       "      <td>https://img.wattpad.com/cover/182991023-256-k8...</td>\n",
       "      <td>LỚP HỌC RÙNG RỢN</td>\n",
       "      <td>25746.0</td>\n",
       "      <td>1068.0</td>\n",
       "      <td>NaN</td>\n",
       "      <td>['0036', '0035', '0038', '0032', '0039', '0030...</td>\n",
       "      <td>['Đang sáng tác']</td>\n",
       "      <td>NaN</td>\n",
       "    </tr>\n",
       "  </tbody>\n",
       "</table>\n",
       "</div>"
      ],
      "text/plain": [
       "   ID  depth                                    story_tags_list  \\\n",
       "0   0      0  ['12chomsao', '12cs', '12cunghoàngđạo', 'bíẩn'...   \n",
       "1   1      0  ['bíẩn', 'cungđấu', 'dieutra', 'thriller', 'tr...   \n",
       "2   2      0                         ['bíẩn', 'cryptic', 'fbi']   \n",
       "3   3      0  ['blood', 'bíẩn', 'horror', 'killer', 'kinhdi'...   \n",
       "4   4      0  ['bíẩn', 'edit', 'hiệnđại', 'hồihộp', 'khoahọc...   \n",
       "\n",
       "                                           cover_img  \\\n",
       "0  https://img.wattpad.com/cover/51678600-512-k93...   \n",
       "1  https://img.wattpad.com/cover/128268448-512-k3...   \n",
       "2  https://img.wattpad.com/cover/68364418-512-k14...   \n",
       "3  https://img.wattpad.com/cover/89250906-512-k22...   \n",
       "4  https://img.wattpad.com/cover/182991023-256-k8...   \n",
       "\n",
       "                                      title   Lượt đọc  Lượt bình chọn  \\\n",
       "0  Vampire và người sói (12 chòm sao)[full]    69463.0          3355.0   \n",
       "1                        Nữ Ngỗ Tác Họa Cốt  3529078.0        128419.0   \n",
       "2      CRYPTIC ( Câu đố Cryptic Ft. Đáp án)    87261.0          2780.0   \n",
       "3                 Em sẽ là nạn nhân của anh    34795.0          2049.0   \n",
       "4                          LỚP HỌC RÙNG RỢN    25746.0          1068.0   \n",
       "\n",
       "   Chương                                recommended_stories  \\\n",
       "0    32.0  ['0020', '0021', '0022', '0023', '0024', '0025...   \n",
       "1   160.0  ['0030', '0031', '0032', '0033', '0034', '0035...   \n",
       "2    13.0  ['0037', '0036', '0035', '0030', '0034', '0032...   \n",
       "3    17.0  ['0032', '0036', '0031', '0034', '0035', '0038...   \n",
       "4     NaN  ['0036', '0035', '0038', '0032', '0039', '0030...   \n",
       "\n",
       "              badges  Thời gian  \n",
       "0                NaN        NaN  \n",
       "1  ['Đang sáng tác']        NaN  \n",
       "2  ['Đang sáng tác']        NaN  \n",
       "3     ['Hoàn thành']        NaN  \n",
       "4  ['Đang sáng tác']        NaN  "
      ]
     },
     "execution_count": 4,
     "metadata": {},
     "output_type": "execute_result"
    }
   ],
   "source": [
    "df_features.head()"
   ]
  },
  {
   "cell_type": "code",
   "execution_count": 5,
   "id": "2c053c07",
   "metadata": {},
   "outputs": [],
   "source": [
    "df_features_final = pd.merge(df_description, df_features, on=\"ID\").drop([\"link\"], axis=1)"
   ]
  },
  {
   "cell_type": "code",
   "execution_count": 6,
   "id": "7abfed1f",
   "metadata": {},
   "outputs": [],
   "source": [
    "df_features_final.to_csv(\"./4_combine_description_and_features.csv\", index=False)"
   ]
  },
  {
   "cell_type": "code",
   "execution_count": 7,
   "id": "e7f5b633",
   "metadata": {},
   "outputs": [
    {
     "data": {
      "text/plain": [
       "1    1213\n",
       "2    1120\n",
       "0     642\n",
       "Name: depth, dtype: int64"
      ]
     },
     "execution_count": 7,
     "metadata": {},
     "output_type": "execute_result"
    }
   ],
   "source": [
    "df_features_final[\"depth\"].value_counts()"
   ]
  },
  {
   "cell_type": "code",
   "execution_count": 8,
   "id": "a4eeb9b1",
   "metadata": {},
   "outputs": [
    {
     "data": {
      "text/plain": [
       "2975"
      ]
     },
     "execution_count": 8,
     "metadata": {},
     "output_type": "execute_result"
    }
   ],
   "source": [
    "len(df_features_final)"
   ]
  },
  {
   "cell_type": "code",
   "execution_count": null,
   "id": "eea2ebc5",
   "metadata": {},
   "outputs": [],
   "source": []
  }
 ],
 "metadata": {
  "kernelspec": {
   "display_name": "Python 3 (ipykernel)",
   "language": "python",
   "name": "python3"
  },
  "language_info": {
   "codemirror_mode": {
    "name": "ipython",
    "version": 3
   },
   "file_extension": ".py",
   "mimetype": "text/x-python",
   "name": "python",
   "nbconvert_exporter": "python",
   "pygments_lexer": "ipython3",
   "version": "3.9.18"
  }
 },
 "nbformat": 4,
 "nbformat_minor": 5
}
