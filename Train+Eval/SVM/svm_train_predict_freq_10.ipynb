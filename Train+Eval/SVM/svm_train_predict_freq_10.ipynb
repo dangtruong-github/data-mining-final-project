{
 "cells": [
  {
   "cell_type": "code",
   "execution_count": 1,
   "id": "3ae2b981-8505-4382-bacd-16dea20f0045",
   "metadata": {},
   "outputs": [],
   "source": [
    "import pandas as pd\n",
    "import numpy as np\n",
    "import statistics"
   ]
  },
  {
   "cell_type": "code",
   "execution_count": 2,
   "id": "69d37b8a-a55c-4657-8316-512c639e9bd0",
   "metadata": {},
   "outputs": [],
   "source": [
    "df = pd.read_csv('data_10_freq.csv')\n",
    "df_no_freq = pd.read_csv('data_no_freq.csv')"
   ]
  },
  {
   "cell_type": "code",
   "execution_count": 3,
   "id": "099d1588-aa4c-45f6-b25c-1a81980a04c2",
   "metadata": {},
   "outputs": [],
   "source": [
    "from sklearn.feature_extraction.text import TfidfVectorizer\n",
    "\n",
    "vectorize = TfidfVectorizer()"
   ]
  },
  {
   "cell_type": "code",
   "execution_count": 4,
   "id": "4db30b2c-d369-4a32-9296-18b80c2f401a",
   "metadata": {},
   "outputs": [],
   "source": [
    "id_test = [ 427, 1676, 1383, 2392, 2071,  362, 1006, 1679,  544, 1859, 1725,\n",
    "       2231, 2728,  332,  696, 2552, 1910,  824, 1423,  413,  975, 2096,\n",
    "        549, 1233,  841, 2859, 2453, 2874,  550, 1896,  874, 1740, 2280,\n",
    "        775, 1587,  793,  143, 2876, 1261, 2695, 1805, 1461, 2944, 1164,\n",
    "        984,  849, 1634, 2708, 1878,  395,  510,  445, 2655,  965, 2946,\n",
    "        832, 2219, 2198, 1140, 1486, 2909,  443,  620,  302, 2477, 1496,\n",
    "       2566, 1621,  561, 1593, 1635, 2308, 2706, 1094,  199, 2916, 2524,\n",
    "       2438, 1566,  599, 2353,  967,  796, 1835, 1337, 1963, 1817, 2836,\n",
    "         32, 2482,   67, 2217, 1545, 1287, 1647, 2831, 1842, 2042,  304,\n",
    "       2434,  980,  872, 1075,  326, 1494, 2298, 2568, 2619, 2448, 1471,\n",
    "        316, 2683,  513, 2051, 1179, 2960, 2032, 2764,  201, 1352, 2366,\n",
    "        897, 1907,  663,   30,  452, 1073, 2809,  585, 1660, 1331, 1639,\n",
    "        182,  894, 1611, 1820, 2500, 2969, 2534, 1881, 2522, 2344,   73,\n",
    "       1257,   63, 1701,  216,   45, 1452, 2301, 1230, 1518,   80, 2601,\n",
    "       2844, 1153, 1021,  494, 2557, 1474, 1442,  420, 1681, 2651, 1533,\n",
    "        713, 2799, 1557, 2243, 2362, 2903,  617, 1711, 1252, 1370,  628,\n",
    "         44, 1469,  473, 1546, 2758, 2271,  446, 2875, 2865,  339,  423,\n",
    "         93, 1536,  179,  801,  449, 1543, 1517,  470, 1421,  581,  862,\n",
    "        534,  590, 2476, 2413,  522,  376, 2447, 2518,  244, 2412, 2886,\n",
    "        463, 1892, 1777, 2107, 1816, 2416, 2327, 1246, 1234, 2797,  476,\n",
    "        612,  560,  422,   70,  915, 2689,  501, 1145,   56, 1247, 1673,\n",
    "       2098, 2869, 1491,  329,  102,  404, 2466, 1108,  500, 2664, 1814,\n",
    "       2127, 1363, 2631, 2321, 2307,  126,  432, 2041,  545,  616, 1083,\n",
    "       1935,  681, 2106,  750, 2160, 1666, 2444, 1137, 1736, 2281, 1703,\n",
    "       1417, 2850,  238, 2312, 1825, 2840, 1136, 1318,  525, 1932,  904,\n",
    "       1705, 2275, 1131, 2471, 1204, 2295, 2025, 2861, 1299, 1147, 2819,\n",
    "       2250, 1291,   29, 2621,  880, 1268, 1090, 1631, 1784,  193,  173,\n",
    "       1824,   43,   87, 2672,  865,  288, 2816, 2796,  661, 1005, 1283,\n",
    "       2635, 2446,  151,  538, 1525]"
   ]
  },
  {
   "cell_type": "code",
   "execution_count": 5,
   "id": "8d197be8-b3be-4d40-9d1e-6fd082bddf6d",
   "metadata": {},
   "outputs": [],
   "source": [
    "df_train = df[~df['id'].isin(id_test)]\n",
    "df_test = df_no_freq[df_no_freq['id'].isin(id_test)]"
   ]
  },
  {
   "cell_type": "code",
   "execution_count": 6,
   "id": "d7c1a96f-c00d-4409-9675-3c9634160cfb",
   "metadata": {},
   "outputs": [],
   "source": [
    "# TF-IDF on training data\n",
    "tfidf_train = vectorize.fit_transform(df_train['text'])\n",
    "\n",
    "# TF-IDF on test data\n",
    "tfidf_test = vectorize.transform(df_test['text'])"
   ]
  },
  {
   "cell_type": "code",
   "execution_count": 7,
   "id": "324d7c67-944f-4687-a80a-f7a07b727847",
   "metadata": {},
   "outputs": [],
   "source": [
    "x_train = tfidf_train\n",
    "x_test = tfidf_test\n",
    "y_train = df_train[['1', '2', '3', '4', '5', '6', '7', '8']]\n",
    "y_test = df_test[['1', '2', '3', '4', '5', '6', '7', '8']]"
   ]
  },
  {
   "cell_type": "code",
   "execution_count": 8,
   "id": "7058ab51-4fd7-4e3c-bffd-0a7083541be9",
   "metadata": {},
   "outputs": [],
   "source": [
    "from sklearn.svm import SVC\n",
    "\n",
    "# Define class weights for each SVM model\n",
    "ratio = {1: 0.51, 2: 0.34, 3: 0.34, 4: 0.26, 5: 0.11, 6: 0.2, 7: 0.05, 8: 0.06}\n",
    "\n",
    "svm_models = {}\n",
    "\n",
    "for i in range(1, 9):\n",
    "    # Extracting the labels for the current class\n",
    "    y_train_class = df_train[str(i)]\n",
    "    y_test_class = df_test[str(i)]\n",
    "\n",
    "    # Build and train SVC model for the current class\n",
    "    svc = SVC(kernel='rbf', C=10, gamma=0.1, probability=True, class_weight={False:1/(2*(1-ratio[i])), True:1/(2*ratio[i])})\n",
    "    svc.fit(x_train, y_train_class)\n",
    "    \n",
    "    # Store the trained model\n",
    "    svm_models[i] = svc\n",
    "\n",
    "# Predict probabilities for each class separately\n",
    "pred_prob = {i: model.predict_proba(x_test)[:, 1] for i, model in svm_models.items()}\n",
    "pred = {i: model.predict(x_test) for i, model in svm_models.items()}"
   ]
  },
  {
   "cell_type": "code",
   "execution_count": 9,
   "id": "cdb1e1fe-0a22-4b93-8eb6-2d2b0cd0983e",
   "metadata": {},
   "outputs": [],
   "source": [
    "df_pred = pd.DataFrame(df_test[['id', '1', '2', '3', '4', '5', '6', '7', '8']])"
   ]
  },
  {
   "cell_type": "code",
   "execution_count": 10,
   "id": "4b258b71-2346-4310-bdad-f2db8a83217a",
   "metadata": {},
   "outputs": [],
   "source": [
    "for i in range(8):  \n",
    "    i_pred = pred_prob[i+1]\n",
    "    df_pred[str(i+1) + '_pred'] = i_pred"
   ]
  },
  {
   "cell_type": "code",
   "execution_count": 11,
   "id": "4231f4ac-59b9-4933-bab6-d2599f1ae0b3",
   "metadata": {},
   "outputs": [
    {
     "data": {
      "text/plain": [
       "29      0.522190\n",
       "30      0.567542\n",
       "32      0.232239\n",
       "43      0.592884\n",
       "44      0.393615\n",
       "          ...   \n",
       "2832    0.219421\n",
       "2860    0.507652\n",
       "2862    0.345988\n",
       "2875    0.415167\n",
       "2884    0.233965\n",
       "Name: 1_pred, Length: 313, dtype: float64"
      ]
     },
     "execution_count": 11,
     "metadata": {},
     "output_type": "execute_result"
    }
   ],
   "source": [
    "df_pred['1_pred']"
   ]
  },
  {
   "cell_type": "code",
   "execution_count": 12,
   "id": "6287e1c6-9066-4c1b-8638-81a6f5c2685d",
   "metadata": {},
   "outputs": [],
   "source": [
    "df_pred.to_csv('result_10.csv')"
   ]
  },
  {
   "cell_type": "code",
   "execution_count": 13,
   "id": "b2ff4437-b579-4887-8201-360f0933be20",
   "metadata": {},
   "outputs": [
    {
     "name": "stdout",
     "output_type": "stream",
     "text": [
      "F1 score for column 1: 0.6624\n",
      "F1 score for column 2: 0.5701\n",
      "F1 score for column 3: 0.4474\n",
      "F1 score for column 4: 0.6329\n",
      "F1 score for column 5: 0.1667\n",
      "F1 score for column 6: 0.5000\n",
      "F1 score for column 7: 0.4444\n",
      "F1 score for column 8: 0.0909\n",
      "average: 0.4393570180312296\n"
     ]
    }
   ],
   "source": [
    "from sklearn.metrics import f1_score\n",
    "\n",
    "# Calculate F1 score for each output separately\n",
    "f1_scores = []\n",
    "for i, column in enumerate(['1', '2', '3', '4', '5', '6', '7', '8']):\n",
    "    f1 = f1_score(df_test[column], pred[i+1])\n",
    "    f1_scores.append(f1)\n",
    "\n",
    "# Print F1 score for each output\n",
    "for i, f1 in enumerate(f1_scores):\n",
    "    print(f'F1 score for column {i+1}: {f1:.4f}')\n",
    "\n",
    "print(f'average: {statistics.mean(f1_scores)}')"
   ]
  },
  {
   "cell_type": "code",
   "execution_count": 14,
   "id": "f353d4d0-c563-4749-9024-df510586d209",
   "metadata": {},
   "outputs": [
    {
     "name": "stdout",
     "output_type": "stream",
     "text": [
      "accuracy for column 1: 0.6613\n",
      "accuracy for column 2: 0.6965\n",
      "accuracy for column 3: 0.5974\n",
      "accuracy for column 4: 0.8147\n",
      "accuracy for column 5: 0.8403\n",
      "accuracy for column 6: 0.7700\n",
      "accuracy for column 7: 0.9521\n",
      "accuracy for column 8: 0.9361\n",
      "average: 0.7835463258785943\n"
     ]
    }
   ],
   "source": [
    "from sklearn.metrics import accuracy_score\n",
    "\n",
    "# Calculate F1 score for each output separately\n",
    "f1_scores = []\n",
    "for i, column in enumerate(['1', '2', '3', '4', '5', '6', '7', '8']):\n",
    "    f1 = accuracy_score(df_test[column], pred[i+1])\n",
    "    f1_scores.append(f1)\n",
    "\n",
    "# Print F1 score for each output\n",
    "for i, f1 in enumerate(f1_scores):\n",
    "    print(f'accuracy for column {i+1}: {f1:.4f}')\n",
    "\n",
    "print(f'average: {statistics.mean(f1_scores)}')"
   ]
  },
  {
   "cell_type": "code",
   "execution_count": 15,
   "id": "c344cf2b-5dbd-4dad-9020-f8c2020135c4",
   "metadata": {},
   "outputs": [],
   "source": [
    "import pickle\n",
    "for i, model in svm_models.items():\n",
    "    with open(f'models/clf10_for_tag_{i}.pkl', 'wb') as fid:\n",
    "        pickle.dump(model, fid)\n",
    "\n",
    "# load it again\n",
    "# with open('my_dumped_classifier.pkl', 'rb') as fid:\n",
    "#     gnb_loaded = cPickle.load(fid)"
   ]
  },
  {
   "cell_type": "code",
   "execution_count": null,
   "id": "2c0a6f55-3ce0-48e2-8962-2d13f034cf94",
   "metadata": {},
   "outputs": [],
   "source": []
  }
 ],
 "metadata": {
  "kernelspec": {
   "display_name": "Python 3 (ipykernel)",
   "language": "python",
   "name": "python3"
  },
  "language_info": {
   "codemirror_mode": {
    "name": "ipython",
    "version": 3
   },
   "file_extension": ".py",
   "mimetype": "text/x-python",
   "name": "python",
   "nbconvert_exporter": "python",
   "pygments_lexer": "ipython3",
   "version": "3.10.11"
  }
 },
 "nbformat": 4,
 "nbformat_minor": 5
}
